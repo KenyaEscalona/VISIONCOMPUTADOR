{
  "nbformat": 4,
  "nbformat_minor": 0,
  "metadata": {
    "colab": {
      "provenance": []
    },
    "kernelspec": {
      "name": "python3",
      "display_name": "Python 3"
    },
    "language_info": {
      "name": "python"
    }
  },
  "cells": [
    {
      "cell_type": "code",
      "execution_count": null,
      "metadata": {
        "id": "EY5eoP_iRSkc"
      },
      "outputs": [],
      "source": [
        "import numpy as np\n",
        "import matplotlib.pyplot as plt\n",
        "import matplotlib.image as mpimg\n",
        "\n",
        "\n"
      ]
    },
    {
      "cell_type": "code",
      "source": [
        "# Imagen 1: Línea diagonal\n",
        "def crear_imagen_1():\n",
        "    # Crear una imagen en blanco\n",
        "    img = np.zeros((100, 100), dtype=np.uint8)\n",
        "    # Dibujar una línea diagonal\n",
        "    np.fill_diagonal(img, 255)\n",
        "\n",
        "    # Guardar la imagen\n",
        "    plt.imsave('imagen1.png', img, cmap='gray')"
      ],
      "metadata": {
        "id": "-THTDkTJRsoh"
      },
      "execution_count": null,
      "outputs": []
    },
    {
      "cell_type": "code",
      "source": [
        "# Imagen 2: Cuadrados concéntricos de colores\n",
        "def crear_imagen_2():\n",
        "    # Crear una imagen en blanco\n",
        "    img = np.zeros((100, 100, 3), dtype=np.uint8)\n",
        "\n",
        "    # Dibujar cuadrados concéntricos de colores\n",
        "    colores = [(255, 0, 0), (0, 255, 0), (0, 0, 255), (0, 0, 0)]\n",
        "    tamaños = [40, 30, 20, 10]\n",
        "\n",
        "    for color, tamaño in zip(colores, tamaños):\n",
        "        inicio = 50 - tamaño // 2\n",
        "        fin = 50 + tamaño // 2\n",
        "        img[inicio:fin, inicio:fin] = color\n",
        "\n",
        "    # Guardar la imagen\n",
        "    plt.imsave('imagen2.png', img)"
      ],
      "metadata": {
        "id": "FND86fOwf1Bt"
      },
      "execution_count": null,
      "outputs": []
    },
    {
      "cell_type": "code",
      "source": [
        "# Crear y guardar las imágenes\n",
        "crear_imagen_1()\n",
        "crear_imagen_2()\n",
        "\n",
        "\n",
        "# Mostrar las imágenes generadas\n",
        "for i in range(1, 3):\n",
        "    img = plt.imread(f'imagen{i}.png')\n",
        "    plt.imshow(img)\n",
        "    plt.title(f'Imagen {i}')\n",
        "    plt.axis('off')\n",
        "    plt.show()"
      ],
      "metadata": {
        "colab": {
          "base_uri": "https://localhost:8080/",
          "height": 839
        },
        "id": "eyK_XAzOf8Bh",
        "outputId": "b4c7e7b5-be28-498c-85d5-216fd9998090"
      },
      "execution_count": null,
      "outputs": [
        {
          "output_type": "display_data",
          "data": {
            "text/plain": [
              "<Figure size 640x480 with 1 Axes>"
            ],
            "image/png": "[encoded data removed]"
          },
          "metadata": {}
        },
        {
          "output_type": "display_data",
          "data": {
            "text/plain": [
              "<Figure size 640x480 with 1 Axes>"
            ],
            "image/png": "[encoded data removed]"
          },
          "metadata": {}
        }
      ]
    }
  ]
}