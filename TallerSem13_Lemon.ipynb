{
  "nbformat": 4,
  "nbformat_minor": 0,
  "metadata": {
    "colab": {
      "provenance": []
    },
    "kernelspec": {
      "name": "python3",
      "display_name": "Python 3"
    },
    "language_info": {
      "name": "python"
    }
  },
  "cells": [
    {
      "cell_type": "code",
      "execution_count": 1,
      "metadata": {
        "id": "2sRpy0RV7OlM"
      },
      "outputs": [],
      "source": [
        "import os\n",
        "import cv2\n",
        "import numpy as np\n",
        "from sklearn.model_selection import train_test_split\n",
        "\n"
      ]
    },
    {
      "cell_type": "code",
      "source": [
        "# Directorios de las imágenes\n",
        "path_good = \"/content/drive/MyDrive/VISION POR COMPUTADOR/SEMANA 13/Lemon_quality/Lemon_quality/good_quality\"\n",
        "path_bad = \"/content/drive/MyDrive/VISION POR COMPUTADOR/SEMANA 13/Lemon_quality/Lemon_quality/bad_quality\""
      ],
      "metadata": {
        "id": "Nxx557z42vdh"
      },
      "execution_count": 2,
      "outputs": []
    },
    {
      "cell_type": "code",
      "source": [
        "# Cargar imágenes y etiquetas\n",
        "images = []\n",
        "labels = []\n",
        "\n",
        "def load_images(path, label):\n",
        "    for image_name in os.listdir(path):\n",
        "        img_path = os.path.join(path, image_name)\n",
        "        image = cv2.imread(img_path)\n",
        "        image = cv2.resize(image, (100, 100))\n",
        "        images.append(image)\n",
        "        labels.append(label)\n",
        "\n",
        "# Cargar imágenes de buena y mala calidad\n",
        "load_images(path_good, 1)  # 1 para 'good_quality'\n",
        "load_images(path_bad, 0)   # 0 para 'bad_quality'\n",
        "\n",
        "# Convertir a un arreglo numpy\n",
        "images = np.array(images)\n",
        "labels = np.array(labels)"
      ],
      "metadata": {
        "id": "LQwYL3o-2zfW"
      },
      "execution_count": 3,
      "outputs": []
    },
    {
      "cell_type": "code",
      "source": [
        "# Normalizamos las imágenes\n",
        "images = images.astype('float32') / 255.0\n",
        "\n",
        "# Dividimos los datos en entrenamiento y prueba\n",
        "X_train, X_test, y_train, y_test = train_test_split(images, labels, test_size=0.2, random_state=42)\n"
      ],
      "metadata": {
        "id": "tKQeq_gt22s7"
      },
      "execution_count": 4,
      "outputs": []
    },
    {
      "cell_type": "code",
      "source": [
        "from skimage.feature import hog\n",
        "from skimage import exposure\n",
        "\n",
        "# Función para extraer características HOG de cada imagen\n",
        "def extract_hog_features(images):\n",
        "    hog_features = []\n",
        "    for img in images:\n",
        "        # Convertir a escala de grises\n",
        "        gray = cv2.cvtColor(img, cv2.COLOR_BGR2GRAY)\n",
        "        # Extraer HOG\n",
        "        features, hog_image = hog(gray, pixels_per_cell=(16, 16), cells_per_block=(2, 2), visualize=True)\n",
        "        # Normalizar la imagen HOG\n",
        "        features = exposure.rescale_intensity(hog_image, in_range=(0, 10))\n",
        "        hog_features.append(features.flatten())\n",
        "    return np.array(hog_features)\n",
        "\n",
        "# Extraemos características HOG para los conjuntos de entrenamiento y prueba\n",
        "X_train_hog = extract_hog_features(X_train)\n",
        "X_test_hog = extract_hog_features(X_test)"
      ],
      "metadata": {
        "id": "9oPtg90125MN"
      },
      "execution_count": 5,
      "outputs": []
    },
    {
      "cell_type": "code",
      "source": [
        "from sklearn.ensemble import RandomForestClassifier\n",
        "from sklearn.metrics import accuracy_score, classification_report\n",
        "\n",
        "# Crear y entrenar el modelo\n",
        "model = RandomForestClassifier(n_estimators=100, random_state=42)\n",
        "model.fit(X_train_hog, y_train)\n",
        "\n",
        "# Hacer predicciones en el conjunto de prueba\n",
        "y_pred = model.predict(X_test_hog)\n",
        "\n",
        "# Evaluar el modelo\n",
        "accuracy = accuracy_score(y_test, y_pred)\n",
        "print(f\"Accuracy: {accuracy:.4f}\")\n",
        "print(\"Classification Report:\")\n",
        "print(classification_report(y_test, y_pred))"
      ],
      "metadata": {
        "colab": {
          "base_uri": "https://localhost:8080/"
        },
        "id": "OfDxNaGS27dU",
        "outputId": "5f2d3306-cc5e-4ca2-d707-d8415e686e4d"
      },
      "execution_count": 6,
      "outputs": [
        {
          "output_type": "stream",
          "name": "stdout",
          "text": [
            "Accuracy: 0.9354\n",
            "Classification Report:\n",
            "              precision    recall  f1-score   support\n",
            "\n",
            "           0       0.94      0.92      0.93       190\n",
            "           1       0.94      0.95      0.94       228\n",
            "\n",
            "    accuracy                           0.94       418\n",
            "   macro avg       0.94      0.93      0.93       418\n",
            "weighted avg       0.94      0.94      0.94       418\n",
            "\n"
          ]
        }
      ]
    },
    {
      "cell_type": "code",
      "source": [
        "from sklearn.model_selection import GridSearchCV\n",
        "\n",
        "# Definir el rango de parámetros\n",
        "param_grid = {\n",
        "    'n_estimators': [50, 100, 150],\n",
        "    'max_depth': [10, 20, None]\n",
        "}\n",
        "\n",
        "# GridSearchCV para optimizar el modelo\n",
        "grid_search = GridSearchCV(RandomForestClassifier(random_state=42), param_grid, cv=3, n_jobs=-1)\n",
        "grid_search.fit(X_train_hog, y_train)\n",
        "\n",
        "# Mostrar los mejores parámetros encontrados\n",
        "print(\"Best parameters found: \", grid_search.best_params_)\n",
        "\n",
        "# Evaluar el modelo optimizado\n",
        "best_model = grid_search.best_estimator_\n",
        "y_pred_optimized = best_model.predict(X_test_hog)\n",
        "\n",
        "# Evaluar el modelo optimizado\n",
        "accuracy_optimized = accuracy_score(y_test, y_pred_optimized)\n",
        "print(f\"Optimized Accuracy: {accuracy_optimized:.4f}\")\n",
        "print(\"Optimized Classification Report:\")\n",
        "print(classification_report(y_test, y_pred_optimized))\n"
      ],
      "metadata": {
        "colab": {
          "base_uri": "https://localhost:8080/"
        },
        "id": "pC76AU6CWinO",
        "outputId": "89482cde-9ef3-48f4-9761-c56509a8a5b9"
      },
      "execution_count": 7,
      "outputs": [
        {
          "output_type": "stream",
          "name": "stdout",
          "text": [
            "Best parameters found:  {'max_depth': 10, 'n_estimators': 100}\n",
            "Optimized Accuracy: 0.9258\n",
            "Optimized Classification Report:\n",
            "              precision    recall  f1-score   support\n",
            "\n",
            "           0       0.93      0.91      0.92       190\n",
            "           1       0.93      0.94      0.93       228\n",
            "\n",
            "    accuracy                           0.93       418\n",
            "   macro avg       0.93      0.92      0.93       418\n",
            "weighted avg       0.93      0.93      0.93       418\n",
            "\n"
          ]
        }
      ]
    }
  ]
}